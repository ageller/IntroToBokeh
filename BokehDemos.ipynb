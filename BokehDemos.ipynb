{
 "cells": [
  {
   "cell_type": "markdown",
   "metadata": {},
   "source": [
    "# Bokeh Demos\n",
    "\n",
    "*The \"User Guide\" linked on this page is a very good resource :* https://bokeh.pydata.org/en/latest/"
   ]
  },
  {
   "cell_type": "markdown",
   "metadata": {},
   "source": [
    "To run this notebook on your computer, please be sure to install the `pandas` and `bokeh` libraries.  I recommend using conda and creating your own environment for this:\n",
    "```\n",
    "conda create -n bokeh-env python=3.10 jupyter pandas bokeh\n",
    "conda activate bokeh-env\n",
    "```"
   ]
  },
  {
   "cell_type": "markdown",
   "metadata": {},
   "source": [
    "# Part 1\n",
    "\n",
    "*An example with a scatter plot and connected table plus a callback to allow access to the selected values.*\n"
   ]
  },
  {
   "cell_type": "markdown",
   "metadata": {},
   "source": [
    "## 1.1 Import the necessary libraries\n",
    "\n"
   ]
  },
  {
   "cell_type": "code",
   "execution_count": null,
   "metadata": {},
   "outputs": [],
   "source": [
    "# Import needed libraries.\n",
    "import pandas as pd\n",
    "from bokeh.plotting import *\n",
    "from bokeh.layouts import row, column\n",
    "from bokeh.models import ColumnDataSource, Scatter, Select, CustomJS\n",
    "from bokeh.models.widgets import DataTable, TableColumn\n",
    "\n",
    "output_notebook()\n",
    "\n",
    "# if you uncomment the line below, the plot will be exported to an html file\n",
    "# Note: if you include callbacks, this only works with Javascript callbacks (see below)\n",
    "\n",
    "# output_file(\"scatterSelect.html\", title='scatter')"
   ]
  },
  {
   "cell_type": "markdown",
   "metadata": {},
   "source": [
    "## 1.2 Read in the data\n",
    "\n",
    "*I am using exoplanet data from the [NASA Exoplanet Archive](https://exoplanetarchive.ipac.caltech.edu/). A description of each column is provided at the top of the file.*"
   ]
  },
  {
   "cell_type": "code",
   "execution_count": null,
   "metadata": {},
   "outputs": [],
   "source": [
    "# Read in (or create) data.\n",
    "df = pd.read_csv('PS_2021.10.05_11.19.37.csv', comment='#')\n",
    "\n",
    "# for this example, I will only keep rows that have values for mass and radius\n",
    "usedf = df.loc[ (pd.notnull(df['pl_bmasse'])) & (pd.notnull(df['pl_rade']))].reset_index()\n",
    "usedf"
   ]
  },
  {
   "cell_type": "markdown",
   "metadata": {},
   "source": [
    "## 1.3 Define the `ColumnDataSource` and the plots.\n",
    "\n",
    "*A `ColumnDataSource` will hold a Python dictionary (or a panda dataframe) containing your data and can be accessed by Bokeh.*"
   ]
  },
  {
   "cell_type": "code",
   "execution_count": null,
   "metadata": {},
   "outputs": [],
   "source": [
    "# create a column data source containing the mass and radius\n",
    "source = ColumnDataSource(data=dict(x=usedf['pl_bmasse'], y=usedf['pl_rade']))"
   ]
  },
  {
   "cell_type": "markdown",
   "metadata": {},
   "source": [
    "*Generate a simple figure using Bokeh.*"
   ]
  },
  {
   "cell_type": "code",
   "execution_count": null,
   "metadata": {},
   "outputs": [],
   "source": [
    "# define the tools you want to use\n",
    "TOOLS = \"pan,wheel_zoom,box_zoom,reset,save,box_select,lasso_select\"\n",
    "\n",
    "# create a new plot and renderer\n",
    "f = figure(tools=TOOLS)\n",
    "renderer = f.scatter('x', 'y', source=source, color='black', alpha=0.5, size=5, marker='circle')\n",
    "\n",
    "# show the plot\n",
    "show(f)"
   ]
  },
  {
   "cell_type": "markdown",
   "metadata": {},
   "source": [
    "## 1.4 Your turn!  Create a new plot using different columns.  \n"
   ]
  },
  {
   "cell_type": "code",
   "execution_count": null,
   "metadata": {},
   "outputs": [],
   "source": [
    "# Define your ColumnDataSource with the columns that you want to plot\n",
    "\n",
    "# Use that ColumnDataSource to create your figure\n"
   ]
  },
  {
   "cell_type": "markdown",
   "metadata": {},
   "source": [
    "*I'm going to wrap the plotting commands in a function so that I can more easily recreate the plot later.  While I'm at it, I'll add some additional options.*"
   ]
  },
  {
   "cell_type": "code",
   "execution_count": null,
   "metadata": {},
   "outputs": [],
   "source": [
    "# create a column data source containing the mass and radius\n",
    "source = ColumnDataSource(data=dict(x=usedf['pl_bmasse'], y=usedf['pl_rade']))\n",
    "    \n",
    "def createPlot(source, x='x', y='y', \n",
    "               xLabel='mass [Earth masses]', yLabel='radius [Earth radii]', \n",
    "               xRange=(0.4, 1e5), yRange=(0.3, 50),\n",
    "               xAxisType='log', yAxisType='log',\n",
    "               width=350, height=350, title=None):\n",
    "\n",
    "    # define the tools you want to use\n",
    "    TOOLS = \"pan,wheel_zoom,box_zoom,reset,save,box_select,lasso_select\"\n",
    "\n",
    "    # create a new plot and renderer\n",
    "    f = figure(tools=TOOLS, width=width, height=height, title=title, x_axis_type=xAxisType, y_axis_type=yAxisType, y_range=yRange, x_range=xRange)\n",
    "    renderer = f.scatter(\n",
    "                x, y, source=source, color='black', alpha=0.5, size=5, marker='circle', \n",
    "                 # (optional) define different colors for highlighted and non-highlighted markers\n",
    "                selection_color=\"firebrick\", selection_fill_alpha=0.8, selection_line_color = None,\n",
    "                nonselection_fill_color=\"grey\", nonselection_fill_alpha=0.2, nonselection_line_color = None,\n",
    "                )\n",
    "    f.xaxis.axis_label = xLabel\n",
    "    f.yaxis.axis_label = yLabel\n",
    "\n",
    "    return f\n",
    "\n",
    "f = createPlot(source)\n",
    "\n",
    "# show the plot\n",
    "show(f)"
   ]
  },
  {
   "cell_type": "markdown",
   "metadata": {},
   "source": [
    "## 1.5 Add a table \n",
    "\n",
    "*First let's look at how to create a simple `DataTable` in Bokeh.*"
   ]
  },
  {
   "cell_type": "code",
   "execution_count": null,
   "metadata": {},
   "outputs": [],
   "source": [
    "# create a list of columns that we want to include.  Each column is defined using Bokeh's TableColumn class\n",
    "# here \"field\" is the label we gave column in the ColumnDataSource\n",
    "columns = []\n",
    "columns.append(TableColumn(field = \"x\", title = \"mass [Earth masses]\"))\n",
    "columns.append(TableColumn(field = \"y\", title = \"radius [Earth radii]\"))\n",
    "\n",
    "t = DataTable(source=source, columns=columns)\n",
    "show(t)"
   ]
  },
  {
   "cell_type": "markdown",
   "metadata": {},
   "source": [
    "*Now, let's add this to our dashboard.  Selecting data on the Bokeh `DataTable` will highlight it on the scatter plot and vice versa.*\n",
    "\n",
    "*Again, I am going to wrap this in a function so that I can use it later and add a few more features.*"
   ]
  },
  {
   "cell_type": "code",
   "execution_count": null,
   "metadata": {},
   "outputs": [],
   "source": [
    "# I want to send the labels to this function also so that it can be more versatile\n",
    "# I will expect the labels to be a dict with a key for each columns that I want to include and value for the label\n",
    "def createTable(source, labels, width=350, height=300):\n",
    "    # create a table to hold the selections\n",
    "    columns = []\n",
    "    for field in labels:\n",
    "        columns.append(TableColumn(field=field, title=labels[field]))\n",
    "\n",
    "    t = DataTable(source=source, columns=columns, width=width, height=height)\n",
    "\n",
    "    return t\n",
    "\n",
    "t = createTable(source, dict(x=\"mass [Earth masses]\", y=\"radius [Earth radii]\"))\n",
    "\n",
    "# create a griplot layout and show the plot and table\n",
    "layout = gridplot([[f, t]])\n",
    "\n",
    "show(layout)"
   ]
  },
  {
   "cell_type": "markdown",
   "metadata": {},
   "source": [
    "## 1.6 Add a second plot for \"linked brushing\"\n",
    "\n",
    "When the user makes a selection on one plot (or the table), it will also be selected on the other plot and the table.  "
   ]
  },
  {
   "cell_type": "code",
   "execution_count": null,
   "metadata": {},
   "outputs": [],
   "source": [
    "# define a data source for two plots that contains all the columns I want to include\n",
    "# first I will limit the original df to remove nans\n",
    "usedf = df.loc[ (pd.notnull(df['pl_bmasse'])) & (pd.notnull(df['pl_rade'])) & \n",
    "                (pd.notnull(df['pl_orbeccen'])) & (pd.notnull(df['pl_orbper'])) ].reset_index()\n",
    "# usedf = df\n",
    "source = ColumnDataSource(data=dict(x1=usedf['pl_bmasse'], y1=usedf['pl_rade'], \n",
    "                                    x2=usedf['pl_orbper'], y2=usedf['pl_orbeccen']))\n",
    "\n",
    "# define labels for the plots and table\n",
    "labels = dict(x1=\"mass [Earth masses]\", y1=\"radius [Earth radii]\",\n",
    "              x2=\"orbital period [days]\", y2=\"eccentricity\")\n",
    "\n",
    "# create two figures\n",
    "f1 = createPlot(source, x='x1', y='y1', xLabel=labels['x1'], yLabel=labels['y1'], xRange=(0.4, 1e5), yRange=(0.3, 50),)\n",
    "f2 = createPlot(source, x='x2', y='y2', xLabel=labels['x2'], yLabel=labels['y2'], xRange=(0.1, 1e4), yRange=(0.0, 1), \n",
    "                yAxisType='linear')\n",
    "\n",
    "t = createTable(source, labels, width=700)\n",
    "\n",
    "# create a griplot layout and show the plot and table\n",
    "layout = column(\n",
    "    row(f1, f2),\n",
    "    row(t)\n",
    ")\n",
    "\n",
    "show(layout)"
   ]
  },
  {
   "cell_type": "markdown",
   "metadata": {},
   "source": [
    "## 1.7 Your turn!  Create a plot and/or table.  \n",
    "\n",
    "*You can use this existing dataset but plotting different columns, or you can use your own data or any dataset on this [GitHub repo](https://github.com/ageller/IDEAS_FSS-Vis/tree/main/datasets).*\n"
   ]
  },
  {
   "cell_type": "code",
   "execution_count": null,
   "metadata": {},
   "outputs": [],
   "source": [
    "# Import needed libraries.\n"
   ]
  },
  {
   "cell_type": "code",
   "execution_count": null,
   "metadata": {},
   "outputs": [],
   "source": [
    "# Read in (or create) data.\n"
   ]
  },
  {
   "cell_type": "code",
   "execution_count": null,
   "metadata": {},
   "outputs": [],
   "source": [
    "# Create your columnDataSource and generate a Bokeh plot and/or table.\n"
   ]
  },
  {
   "cell_type": "markdown",
   "metadata": {},
   "source": [
    "# Part 2 : Add \"widgets\" and \"callbacks\" \n",
    "\n",
    "*Widgets refer to extra elements added to plots that can control how the data is displayed, including buttons, dropdowns, checkboxes, sliders, etc.  (See [examples](https://docs.bokeh.org/en/latest/docs/user_guide/interaction/widgets.html) and [documentation](https://docs.bokeh.org/en/latest/docs/reference/models/widgets.html#widgets) on Bokeh's website.)*\n",
    "\n",
    "*A callback is a generic term for a function that is called after some event happens.  For instance, below we will write callback functions that will be called after a selection is made, and after a widget value is changed.*\n",
    "\n",
    "*Bokeh can work with callbacks in either Python of Javascript.  When working fully within a Jupyter notebook, it probably makes most sense to write callbacks in Python.  However, if you want to export your interactive plot to a website, or you want to work in google colab, you would need to write all callbacks in Javascript.  Let's work first fully in Python; then I will rewrite these examples with Javascript callbacks below for reference.*"
   ]
  },
  {
   "cell_type": "markdown",
   "metadata": {},
   "source": [
    "## 2.1 The pure Python approach\n",
    "\n",
    "*This approach has the benefit of already being in a language you know (Python), but you cannot use Python callbacks to create a .html file.  Only Javascript callbacks can be used to create an interactive plot for your website.*\n",
    "\n",
    "**Note: Python callbacks will not work in Google Colab.  If you are working in Colab, please see the Javascript versions below (on in the [online Colab version here](https://colab.research.google.com/drive/1JiEgyzJWC547CmamXJWj-GGCHqRVZPC7?usp=sharing)).  On your local machine, they will only work on localhost:8888 (the default address for the first jupyter notebook you open.), unless you add a flag to your show command, like ```show(bkapp, notebook_url='localhost:8889')```**"
   ]
  },
  {
   "cell_type": "markdown",
   "metadata": {},
   "source": [
    "### 2.1.1 Add a callback to get the selected indices for later use in the notebook"
   ]
  },
  {
   "cell_type": "code",
   "execution_count": null,
   "metadata": {},
   "outputs": [],
   "source": [
    "# It appears that in order for the Python callback to work, I need to redefine the plot and table within this cell\n",
    "source = ColumnDataSource(data=dict(x=usedf['pl_bmasse'], y=usedf['pl_rade']))\n",
    "f = createPlot(source)\n",
    "t = createTable(source, dict(x=\"mass [Earth masses]\", y=\"radius [Earth radii]\"))\n",
    "\n",
    "# define a global variable the will be modified within the callback\n",
    "indices = []\n",
    "# write the Python callback.  Note that all Python callbacks require these args.\n",
    "def attachSelectionHandler(source):\n",
    "    def selectionHandler(attr,old,new):\n",
    "        global indices\n",
    "        # the indices global variable will hold the indices of the selected elements\n",
    "        indices = source.selected.indices\n",
    "\n",
    "    # attach the callback to the data source to be run when the selection indices change\n",
    "    source.selected.on_change(\"indices\", selectionHandler)\n",
    "\n",
    "attachSelectionHandler(source)\n",
    "\n",
    "# create a griplot layout and show the plot and table\n",
    "layout = gridplot([[f, t]])\n",
    "\n",
    "# in order to run a Python callback in a Jupyter notebook, you need to include the following\n",
    "def bkapp(doc):\n",
    "    doc.add_root(layout)\n",
    "\n",
    "show(bkapp)"
   ]
  },
  {
   "cell_type": "code",
   "execution_count": null,
   "metadata": {},
   "outputs": [],
   "source": [
    "# test that we have access to the selected points\n",
    "usedf.iloc[list(indices)]#['pl_bmasse']"
   ]
  },
  {
   "cell_type": "markdown",
   "metadata": {},
   "source": [
    "### 2.1.2 Adding a dropdown widget\n",
    "\n",
    "*I will work with the same Pandas DataFrame, but now I want to allow the user to be able to interactively select the data to plot on each axis from a few different columns.  First I will need to create a new `ColumnDataSource`.  Then I can use the function from above to create the plot.  Finally I will create the dropdown(s) and add them to the plot.* "
   ]
  },
  {
   "cell_type": "code",
   "execution_count": null,
   "metadata": {},
   "outputs": [],
   "source": [
    "# I will follow a very similar method as before but I will provide more columns to the ColumnDataSource\n",
    "usedf = df.loc[ (pd.notnull(df['pl_bmasse'])) & (pd.notnull(df['pl_rade'])) & \n",
    "                (pd.notnull(df['pl_orbeccen'])) & (pd.notnull(df['pl_orbper'])) &\n",
    "                (pd.notnull(df['st_teff'])) & (pd.notnull(df['sy_vmag']))].reset_index()\n",
    "\n",
    "source = ColumnDataSource(data=dict(x=usedf['pl_bmasse'], y=usedf['pl_rade'], \n",
    "                                    mass=usedf['pl_bmasse'],\n",
    "                                    rad=usedf['pl_rade'],\n",
    "                                    ecc=usedf['pl_orbeccen'],\n",
    "                                    per=usedf['pl_orbper'],\n",
    "                                    teff=usedf['st_teff'],\n",
    "                                    vmag=usedf['sy_vmag']))\n",
    "\n",
    "#create a dict to hold all the keys and labels that I will want to use\n",
    "labels = dict(mass=\"mass [Earth masses]\",\n",
    "              rad=\"radius [Earth radii]\",\n",
    "              ecc=\"eccentricity\",\n",
    "              per=\"orbital period [days]\",\n",
    "              teff=\"star Teff [K]\",\n",
    "              vmag=\"star V [mag]\")\n",
    "\n",
    "# use the function from above the create the plot\n",
    "f = createPlot(source)\n",
    "\n",
    "# now let's create a dropdown that will change the data plotted in the x axis\n",
    "# Select is a Bokeh widget that I imported above. \n",
    "#    \"value\" is the starting value of the dropdown\n",
    "#    \"options\" is a list that contains the text that I want to show up in the dropdowns (should contain value)\n",
    "\n",
    "options = list(labels.values())\n",
    "keys = list(labels.keys())\n",
    "# a debugging suggestion to see what options and keys contain\n",
    "# print('options = ', options) \n",
    "# print('keys = ', keys)\n",
    "\n",
    "xSelect = Select(title=\"x axis\", value=options[0], options=options)\n",
    "\n",
    "# Python callback to change the data plotted in the x axis\n",
    "def xCallback(attr,old,new):        \n",
    "    # get the index in our lists of the new value\n",
    "    index = options.index(new)\n",
    "    \n",
    "    # get the key for the new data\n",
    "    key = keys[index]\n",
    "          \n",
    "    # set the x key in the source (shown in the plot) to that new column of data\n",
    "    source.data['x'] = source.data[key]\n",
    "    \n",
    "    # update the axis label\n",
    "    f.xaxis[0].axis_label = new\n",
    "\n",
    "# attach the callback to the Select widgets\n",
    "xSelect.on_change(\"value\", xCallback)\n",
    "\n",
    "# define the layout\n",
    "layout = column(\n",
    "    xSelect,\n",
    "    f\n",
    ")\n",
    "\n",
    "\n",
    "# in order to run a Python callback in a Jupyter notebook, you need to include the following\n",
    "def bkapp(doc):\n",
    "    doc.add_root(layout)\n",
    "\n",
    "show(bkapp)"
   ]
  },
  {
   "cell_type": "markdown",
   "metadata": {},
   "source": [
    "### 2.1.3 Your turn!  Add in a similar dropdown widget for changing the y axis\n"
   ]
  },
  {
   "cell_type": "code",
   "execution_count": null,
   "metadata": {},
   "outputs": [],
   "source": [
    "# Hint: start by copying the code above into the cell below.  Then duplicate my method for the x-axis widget but now referencing the y axis.\n"
   ]
  },
  {
   "cell_type": "markdown",
   "metadata": {},
   "source": [
    "*To solve this exercise, I combined these widgets into a function and also added a features to automatically set the plot bounds based on the data sent to each axis.*"
   ]
  },
  {
   "cell_type": "code",
   "execution_count": null,
   "metadata": {},
   "outputs": [],
   "source": [
    "# I will follow a very similar method as before but I will provide more columns to the ColumnDataSource\n",
    "usedf = df.loc[ (pd.notnull(df['pl_bmasse'])) & (pd.notnull(df['pl_rade'])) & \n",
    "                (pd.notnull(df['pl_orbeccen'])) & (pd.notnull(df['pl_orbper'])) &\n",
    "                (pd.notnull(df['st_teff'])) & (pd.notnull(df['sy_vmag']))].reset_index()\n",
    "\n",
    "source = ColumnDataSource(data=dict(x=usedf['pl_bmasse'], y=usedf['pl_rade'], \n",
    "                                    mass=usedf['pl_bmasse'],\n",
    "                                    rad=usedf['pl_rade'],\n",
    "                                    ecc=usedf['pl_orbeccen'],\n",
    "                                    per=usedf['pl_orbper'],\n",
    "                                    teff=usedf['st_teff'],\n",
    "                                    vmag=usedf['sy_vmag']))\n",
    "\n",
    "#create a dict to hold all the keys and labels that I will want to use\n",
    "labels = dict(mass=\"mass [Earth masses]\",\n",
    "              rad=\"radius [Earth radii]\",\n",
    "              ecc=\"eccentricity\",\n",
    "              per=\"orbital period [days]\",\n",
    "              teff=\"star Teff [K]\",\n",
    "              vmag=\"star V [mag]\")\n",
    "\n",
    "\n",
    "# use the function from above the create the plot\n",
    "f = createPlot(source)\n",
    "\n",
    "# define the dropdowns.  \n",
    "# Again, I will wrap this in a function\n",
    "def createDropdowns(source, f, labels):\n",
    "    # define widgets to change the x and y values to plot\n",
    "    \n",
    "    # I will create a few arrays here\n",
    "    # \"options\" will be created from labels and will contain the text that I want to show up in the dropdowns\n",
    "    # \"keys\" will be created from labels and will contain the actual key values that I defined in the source dict\n",
    "    # \"bounds\" will contain axis limits for each key, note that since I'm using log scaling, I need to make these >0\n",
    "    # (in principle this could be done as a single dict, but having the lists makes the javascript side easier)\n",
    "    options = list(labels.values())\n",
    "    keys = list(labels.keys())\n",
    "    bounds = [];\n",
    "    for k in labels:\n",
    "        bounds.append([max(0.5*min(source.data[k]), 0.0001), max(2*max(source.data[k]), 0.0001)])\n",
    "        \n",
    "    # Select is a Bokeh widget that I imported above.  I will create one for the x-axis and one for the y-axis.\n",
    "    xSelect = Select(title=\"x axis\", value=options[0], options=options)\n",
    "    ySelect = Select(title=\"y axis\", value=options[1], options=options)\n",
    "    \n",
    "    # Python callback\n",
    "    # I'm going to create separate callbacks to handle each axis\n",
    "    # There may be a cleaner way to do this with an individual callback (like in Javascript below), but it's not obvious to me.\n",
    "    def xCallback(attr,old,new):        \n",
    "        # get the index in our lists of the new value\n",
    "        index = options.index(new)\n",
    "        \n",
    "        # get the key for the new data\n",
    "        key = keys[index]\n",
    "              \n",
    "        # set the x key in the source (shown in the plot) to that new column of data\n",
    "        source.data['x'] = source.data[key]\n",
    "        \n",
    "        # update the axis limits\n",
    "        f.x_range.start = bounds[index][0]\n",
    "        f.x_range.end = bounds[index][1]\n",
    "        \n",
    "        # update the axis label\n",
    "        f.xaxis[0].axis_label = new\n",
    "        \n",
    "    def yCallback(attr,old,new):\n",
    "        # get the index in our lists of the new value\n",
    "        index = options.index(new)\n",
    "        \n",
    "        # get the key for the new data\n",
    "        key = keys[index]\n",
    "              \n",
    "        # set the x key in the source (shown in the plot) to that new column of data\n",
    "        source.data['y'] = source.data[key]\n",
    "        \n",
    "        # update the axis limits\n",
    "        f.y_range.start = bounds[index][0]\n",
    "        f.y_range.end = bounds[index][1]\n",
    "        \n",
    "        # update the axis label\n",
    "        f.yaxis[0].axis_label = new\n",
    "    \n",
    "    # attach the callback to the Select widgets\n",
    "    xSelect.on_change(\"value\", xCallback)\n",
    "    ySelect.on_change(\"value\", yCallback)\n",
    "    \n",
    "    return xSelect, ySelect\n",
    "   \n",
    "xSelect, ySelect = createDropdowns(source, f, labels)\n",
    "\n",
    "layout = row(\n",
    "    f,\n",
    "    column(xSelect,ySelect)\n",
    ")\n",
    "\n",
    "# in order to run a Python callback in a Jupyter notebook, you need to include the following\n",
    "def bkapp(doc):\n",
    "    doc.add_root(layout)\n",
    "\n",
    "show(bkapp)\n"
   ]
  },
  {
   "cell_type": "markdown",
   "metadata": {},
   "source": [
    "### 2.1.4 Add the table and the selection handler back in"
   ]
  },
  {
   "cell_type": "code",
   "execution_count": null,
   "metadata": {},
   "outputs": [],
   "source": [
    "# you always need to redefine the data source in the cell (even if it is unchanged) <-- this is a Bokeh thing\n",
    "source = ColumnDataSource(data=dict(x=usedf['pl_bmasse'], y=usedf['pl_rade'], \n",
    "                                    mass=usedf['pl_bmasse'],\n",
    "                                    rad=usedf['pl_rade'],\n",
    "                                    ecc=usedf['pl_orbeccen'],\n",
    "                                    per=usedf['pl_orbper'],\n",
    "                                    teff=usedf['st_teff'],\n",
    "                                    vmag=usedf['sy_vmag']))\n",
    "\n",
    "f = createPlot(source, width=500)\n",
    "\n",
    "t = createTable(source, labels, width=800)\n",
    "\n",
    "xSelect, ySelect = createDropdowns(source, f, labels)\n",
    "\n",
    "attachSelectionHandler(source)\n",
    "\n",
    "layout = column(\n",
    "    row(column(xSelect,ySelect), f,),\n",
    "    row(t)\n",
    ")\n",
    "\n",
    "# in order to run a Python callback in a Jupyter notebook, you need to include the following\n",
    "def bkapp(doc):\n",
    "    doc.add_root(layout)\n",
    "\n",
    "show(bkapp)"
   ]
  },
  {
   "cell_type": "code",
   "execution_count": null,
   "metadata": {},
   "outputs": [],
   "source": [
    "# test that we have access to the selected points\n",
    "usedf.iloc[list(indices)]#['pl_bmasse']"
   ]
  },
  {
   "cell_type": "markdown",
   "metadata": {},
   "source": [
    "## 2.2 The Javascript approach:\n",
    "\n",
    "*In this example below, I am writing the callback functions in Javascript, using Bokeh's `CustomJS`.  This will allow us to show the result within a Colab notebook and also to save the resulting plot as a standalone .html file that could be used on your website.  (But, you need to learn a little Javascript.)  Here I only recreate the dropdowns in JS.  If you are using Google Colab and want a callback to return indices of selected points, please see the [online Colab version here](https://colab.research.google.com/drive/1JiEgyzJWC547CmamXJWj-GGCHqRVZPC7?usp=sharing)*"
   ]
  },
  {
   "cell_type": "code",
   "execution_count": null,
   "metadata": {},
   "outputs": [],
   "source": [
    "# Define the Javascript callback for the dropdowns\n",
    "# Again, I will wrap this in a function\n",
    "def createDropdownsJS(source, f, labels):\n",
    "    # define widgets to change the x and y values to plot\n",
    "    \n",
    "    # I will create a few arrays here\n",
    "    # \"options\" will be created from labels and will contain the text that I want to show up in the dropdowns\n",
    "    # \"keys\" will be created from labels and will contain the actual key values that I defined in the source dict\n",
    "    # \"bounds\" will contain axis limits for each key, note that since I'm using log scaling, I need to make these >0\n",
    "    # (in principle this could be done as a single dict, but having the lists makes the javascript side easier)\n",
    "    options = list(labels.values())\n",
    "    keys = list(labels.keys())\n",
    "    bounds = [];\n",
    "    for k in labels:\n",
    "        bounds.append([max(0.5*min(source.data[k]), 0.0001), max(2*max(source.data[k]), 0.0001)])\n",
    "        \n",
    "    # Select is a Bokeh widget that I imported above.  I will create one for the x-axis and one for the y-axis.\n",
    "    xSelect = Select(title=\"x axis\", value=options[0], options=options)\n",
    "    ySelect = Select(title=\"y axis\", value=options[1], options=options)\n",
    "\n",
    "    # Javascript callback\n",
    "    # I'm going to create a single callback to handle both axes\n",
    "    callback = CustomJS(args=dict(source=source, keys=keys, options=options, bounds=bounds,\n",
    "                                 axes={\"x\":f.xaxis[0], \"y\":f.yaxis[0]}, \n",
    "                                 ranges={\"x\":f.x_range, \"y\":f.y_range} ), \n",
    "                        code=\"\"\"\n",
    "        //get the value from the dropdown \n",
    "        //Note: \"this\" is like Python's \"self\"; here it will containt the select element.\n",
    "        var val = this.value;\n",
    "\n",
    "        //now find the index within the options array so that I can find the correct key to use\n",
    "        var index = options.indexOf(val);\n",
    "        var key = keys[index];\n",
    "\n",
    "        //check which axis this is\n",
    "        var ax = \"x\";\n",
    "        if (this.title == \"y axis\") ax = \"y\";\n",
    "        console.log(this.title, ax)\n",
    "\n",
    "        //change the data being plotted\n",
    "        source.data[ax] = source.data[key];\n",
    "        source.change.emit();\n",
    "\n",
    "        //change the axis label\n",
    "        axes[ax].axis_label = val;\n",
    "\n",
    "        //change the bounds\n",
    "        ranges[ax].start = bounds[index][0];\n",
    "        ranges[ax].end = bounds[index][1];\n",
    "\n",
    "    \"\"\")\n",
    "    \n",
    "    # attach the callback to the Select widgets\n",
    "    xSelect.js_on_change(\"value\", callback)\n",
    "    ySelect.js_on_change(\"value\", callback)\n",
    "    \n",
    "    return xSelect, ySelect"
   ]
  },
  {
   "cell_type": "code",
   "execution_count": null,
   "metadata": {},
   "outputs": [],
   "source": [
    "# create the data, widgets, figure and table\n",
    "# I will follow a very similar method as before but I will use the Javascript callbacks\n",
    "usedf = df.loc[ (pd.notnull(df['pl_bmasse'])) & (pd.notnull(df['pl_rade'])) & \n",
    "                (pd.notnull(df['pl_orbeccen'])) & (pd.notnull(df['pl_orbper'])) &\n",
    "                (pd.notnull(df['st_teff'])) & (pd.notnull(df['sy_vmag']))].reset_index()\n",
    "source = ColumnDataSource(data=dict(x=usedf['pl_bmasse'], y=usedf['pl_rade'], \n",
    "                                    mass=usedf['pl_bmasse'],\n",
    "                                    rad=usedf['pl_rade'],\n",
    "                                    ecc=usedf['pl_orbeccen'],\n",
    "                                    per=usedf['pl_orbper'],\n",
    "                                    teff=usedf['st_teff'],\n",
    "                                    vmag=usedf['sy_vmag']))\n",
    "\n",
    "#create a dict to hold all the keys and labels that I will want to use\n",
    "labels = dict(mass=\"mass [Earth masses]\",\n",
    "              rad=\"radius [Earth radii]\",\n",
    "              ecc=\"eccentricity\",\n",
    "              per=\"orbital period [days]\",\n",
    "              teff=\"star Teff [K]\",\n",
    "              vmag=\"star V [mag]\")\n",
    "\n",
    "\n",
    "f = createPlot(source, width=500)\n",
    "\n",
    "t = createTable(source, labels, width=800)\n",
    "\n",
    "xSelect, ySelect = createDropdownsJS(source, f, labels)\n",
    "\n",
    "layout = column(\n",
    "    row(column(xSelect,ySelect), f,),\n",
    "    row(t)\n",
    ")\n",
    "\n",
    "# show the plot\n",
    "show(layout)\n"
   ]
  },
  {
   "cell_type": "code",
   "execution_count": null,
   "metadata": {},
   "outputs": [],
   "source": [
    "# if you uncomment the lines below, the plot will be exported to an html file\n",
    "# output_file(\"scatterSelect.html\", title='scatter')\n",
    "# show(layout)"
   ]
  },
  {
   "cell_type": "markdown",
   "metadata": {},
   "source": [
    "## 2.3. Your turn!  Create a Bokeh plot and/or table of some data with some widget.  \n",
    "\n",
    "*If you have your own data set, please use that.  If you need a multi-dimensional data set to explore, you can look [here.](https://github.com/ageller/IDEAS_FSS-Vis/tree/master/datasets)*\n",
    "\n",
    "*Include the standard pan, wheel_zoom, box_zoom, reset, save, box_select, and lasso_select tools (if creating a figure), and also [a widget](https://docs.bokeh.org/en/latest/docs/user_guide/interaction/widgets.html) (e.g., slider, button, etc.) that controls some aspect of the plot.*\n",
    "\n",
    "*Remember, if you are working in a Jupyter-notebook, your callback can either by in Python or Javascript, but in Colab your callback must be in Javascript.*"
   ]
  },
  {
   "cell_type": "code",
   "execution_count": null,
   "metadata": {},
   "outputs": [],
   "source": [
    "# Import needed libraries."
   ]
  },
  {
   "cell_type": "code",
   "execution_count": null,
   "metadata": {},
   "outputs": [],
   "source": [
    "# Read in (or create) data."
   ]
  },
  {
   "cell_type": "code",
   "execution_count": null,
   "metadata": {},
   "outputs": [],
   "source": [
    "# Create your columnDataSource and generate a Bokeh plot and/or table with a widget."
   ]
  }
 ],
 "metadata": {
  "kernelspec": {
   "display_name": "Python 3 (ipykernel)",
   "language": "python",
   "name": "python3"
  },
  "language_info": {
   "codemirror_mode": {
    "name": "ipython",
    "version": 3
   },
   "file_extension": ".py",
   "mimetype": "text/x-python",
   "name": "python",
   "nbconvert_exporter": "python",
   "pygments_lexer": "ipython3",
   "version": "3.10.14"
  }
 },
 "nbformat": 4,
 "nbformat_minor": 4
}
