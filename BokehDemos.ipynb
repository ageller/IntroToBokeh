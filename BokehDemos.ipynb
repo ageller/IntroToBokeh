{
 "cells": [
  {
   "cell_type": "markdown",
   "metadata": {},
   "source": [
    "# Bokeh Demos\n",
    "\n",
    "*The \"User Guide\" linked on this page is a very good resource :* https://bokeh.pydata.org/en/latest/"
   ]
  },
  {
   "cell_type": "markdown",
   "metadata": {},
   "source": [
    "## Part 1\n",
    "\n",
    "*An example with a scatter plot and connected table plus a callback to allow access to the selected values.*\n"
   ]
  },
  {
   "cell_type": "markdown",
   "metadata": {},
   "source": [
    "## 1.1 Import the necessary libraries\n",
    "\n"
   ]
  },
  {
   "cell_type": "code",
   "execution_count": null,
   "metadata": {},
   "outputs": [],
   "source": [
    "# Import needed libraries.\n",
    "import pandas as pd\n",
    "from bokeh.plotting import *\n",
    "from bokeh.layouts import row, column\n",
    "from bokeh.models import ColumnDataSource, Scatter, Select, CustomJS\n",
    "from bokeh.models.widgets import DataTable, TableColumn\n",
    "\n",
    "output_notebook()\n",
    "# if you uncomment the line below, the plot will be exported to an html file\n",
    "#output_file(\"scatterSelect.html\", title='scatter')"
   ]
  },
  {
   "cell_type": "markdown",
   "metadata": {},
   "source": [
    "## 1.2 Read in the data\n",
    "\n",
    "*I am using exoplanet data from the [NASA Exoplanet Archive](https://exoplanetarchive.ipac.caltech.edu/). A description of each column is provided at the top of the file.*"
   ]
  },
  {
   "cell_type": "code",
   "execution_count": null,
   "metadata": {},
   "outputs": [],
   "source": [
    "# Read in (or create) data.\n",
    "df = pd.read_csv('PS_2021.10.05_11.19.37.csv', comment='#')\n",
    "\n",
    "# for this example, I will only keep rows that have values for mass and radius\n",
    "usedf = df.loc[ (pd.notnull(df['pl_bmasse'])) & (pd.notnull(df['pl_rade']))].reset_index()\n",
    "usedf"
   ]
  },
  {
   "cell_type": "markdown",
   "metadata": {},
   "source": [
    "## 1.3 Define the \"ColumnDataSource\" and the plots.\n",
    "\n",
    "*A ColumnDataSource will hold a python dictionary (or a panda dataframe) containing your data and can be accessed by Bokeh.*\n",
    "\n",
    "*I'm going to wrap these commands in a function so that I can access them later (needed while creating the callback below).*"
   ]
  },
  {
   "cell_type": "code",
   "execution_count": null,
   "metadata": {},
   "outputs": [],
   "source": [
    "# create a column data source containing the mass and radius\n",
    "source = ColumnDataSource(data=dict(x=usedf['pl_bmasse'], y=usedf['pl_rade']))\n",
    "    \n",
    "def createPlot(source):\n",
    "\n",
    "    # define the tools you want to use\n",
    "    TOOLS = \"pan,wheel_zoom,box_zoom,reset,save,box_select,lasso_select\"\n",
    "\n",
    "    # create a new plot and renderer\n",
    "    f = figure(tools=TOOLS, width=350, height=350, title=None, x_axis_type='log', y_axis_type='log', \n",
    "               y_range=(0.3, 50), x_range=(0.03, 1e5))\n",
    "    renderer = f.scatter('x', 'y', source=source, color='black', alpha=0.5, size=5, marker='circle')\n",
    "    f.xaxis.axis_label = 'mass [Earth masses]'\n",
    "    f.yaxis.axis_label = 'radius [Earth radii]'\n",
    "\n",
    "    # (optional) define different colors for highlighted and non-highlighted markers\n",
    "    renderer.selection_glyph = Scatter(fill_alpha=1, fill_color=\"firebrick\", line_color=None)\n",
    "    renderer.nonselection_glyph = Scatter(fill_alpha=0.2, fill_color=\"gray\", line_color=None)\n",
    "\n",
    "    return f\n",
    "\n",
    "f = createPlot(source)\n",
    "\n",
    "# show the plot\n",
    "show(f)"
   ]
  },
  {
   "cell_type": "markdown",
   "metadata": {},
   "source": [
    "## 1.4 Add a table \n",
    "\n",
    "*Selecting data on the Bokeh DataTable will highlith it on the scatter plot and vice versa.*\n",
    "\n",
    "*Again, I am going to wrap this in a function so that I can use it later.*"
   ]
  },
  {
   "cell_type": "code",
   "execution_count": null,
   "metadata": {},
   "outputs": [],
   "source": [
    "# I want to send the labels to this function also so that it can be more versatile\n",
    "# I will expect the labes to be a dict with a key for each columns that I want to include and value for the label\n",
    "def createTable(source, labels, w=350, h=300):\n",
    "    # create a table to hold the selections\n",
    "    columns = []\n",
    "    for field in labels:\n",
    "        columns.append(TableColumn(field=field, title=labels[field]))\n",
    "\n",
    "    t = DataTable(source=source, columns=columns, width=w, height=h)\n",
    "\n",
    "    return t\n",
    "\n",
    "t = createTable(source, dict(x=\"mass [Earth masses]\", y=\"radius [Earth radii]\"))\n",
    "\n",
    "# create a griplot layout and show the plot and table\n",
    "layout = gridplot([[f, t]])\n",
    "\n",
    "show(layout)"
   ]
  },
  {
   "cell_type": "markdown",
   "metadata": {},
   "source": [
    "## 1.5 Add a \"callback\" to get the selected indices for later use in the notebook\n",
    "\n",
    "*A callback is a generic term for a function that is called after some event happens.  Here the function will be called after a slider's value is changed.*\n",
    "\n",
    "*Bokeh can work with callbacks in either Python of Javascript.  When working fully within a Jupyter notebook, it probably makes most sense to write callbacks in Python.  However, if you want to export your interactive plot to a website, you would need to write a Javascript callback.  I will show an example of the Javascript version below for completeness.*"
   ]
  },
  {
   "cell_type": "markdown",
   "metadata": {},
   "source": [
    "## 1.5a The Python approach:\n",
    "\n",
    "*In this example below, I am writing the callback function in Python.  This approach has the benefit of already being in a language you know (Python), but you cannot use Python callbacks to create a .html file.  Only Javascript callbacks can be used to create an interactive plot for your website.  (Also Python callbacks will not work in colab.)*  "
   ]
  },
  {
   "cell_type": "code",
   "execution_count": null,
   "metadata": {},
   "outputs": [],
   "source": [
    "# It appears that in order for the Python callback to work, I need to redefine the plot and table within this cell\n",
    "source = ColumnDataSource(data=dict(x=usedf['pl_bmasse'], y=usedf['pl_rade']))\n",
    "f = createPlot(source)\n",
    "t = createTable(source, dict(x=\"mass [Earth masses]\", y=\"radius [Earth radii]\"))\n",
    "\n",
    "# define a global variable the will be modified within the callback\n",
    "indices = []\n",
    "def selectionHandler(attr,old,new):\n",
    "    global indices\n",
    "    indices = source.selected.indices\n",
    "\n",
    "# attach the callback to the data source to be run when the selection indices change\n",
    "source.selected.on_change(\"indices\", selectionHandler)\n",
    "\n",
    "# create a griplot layout and show the plot and table\n",
    "layout = gridplot([[f, t]])\n",
    "\n",
    "# in order to run a Python callback in a Jupyter notbook, you need to include the following\n",
    "def bkapp(doc):\n",
    "    doc.add_root(layout)\n",
    "\n",
    "show(bkapp)"
   ]
  },
  {
   "cell_type": "code",
   "execution_count": null,
   "metadata": {},
   "outputs": [],
   "source": [
    "# test that we have access to the selected points\n",
    "usedf.iloc[list(indices)]#['pl_bmasse']"
   ]
  },
  {
   "cell_type": "markdown",
   "metadata": {},
   "source": [
    "## 1.5b The Javascript approach:\n",
    "\n",
    "*In this example below, I am writing the callback function in Javascript.  This will allow us to show the result within a colab notebook and also to save the resulting plot as a standalone .html file that could be used on your website.  (But, you need to learn a little Javascript.)*"
   ]
  },
  {
   "cell_type": "code",
   "execution_count": null,
   "metadata": {},
   "outputs": [],
   "source": [
    "# if you ran the python version above, you will need to recreate the plot\n",
    "source = ColumnDataSource(data=dict(x=usedf['pl_bmasse'], y=usedf['pl_rade']))\n",
    "f = createPlot(source)\n",
    "t = createTable(source, dict(x=\"mass [Earth masses]\", y=\"radius [Earth radii]\"))\n",
    "\n",
    "# define the javascript callback using Bokeh's CustomJS\n",
    "#I will wrap this in a function so that I can use it later\n",
    "def attachSelectionHandlerJS(source):\n",
    "    selectionHandlerJS = CustomJS(args=dict(s1=source), code=\"\"\"\n",
    "        //get the indices\n",
    "        const indices = cb_obj.indices;\n",
    "\n",
    "        //execute a command in this notebook to set the indices\n",
    "        IPython.notebook.kernel.execute(\"indices = \" + indices);\n",
    "    \"\"\")\n",
    "\n",
    "    # attach the callback to the data source to be run when the selection indices change\n",
    "    source.selected.js_on_change(\"indices\", selectionHandlerJS)\n",
    "\n",
    "attachSelectionHandlerJS(source)\n",
    "\n",
    "# create a griplot layout and show the plot and table\n",
    "layout = gridplot([[f, t]])\n",
    "    \n",
    "show(layout)\n"
   ]
  },
  {
   "cell_type": "code",
   "execution_count": null,
   "metadata": {},
   "outputs": [],
   "source": [
    "# test that we have access to the selected points\n",
    "usedf.iloc[list(indices)]#['pl_bmasse']"
   ]
  },
  {
   "cell_type": "markdown",
   "metadata": {},
   "source": [
    "## Part 2\n",
    "\n",
    "*A scatter plot with dropdown widgets to change the data in the plot.*"
   ]
  },
  {
   "cell_type": "markdown",
   "metadata": {},
   "source": [
    "## 2.1 Adding a dropdown widget\n",
    "\n",
    "*I will work with the same Pandas DataFrame, but now I want to allow the user to be able to interactively select the data to plot on each axis from a few different columns.  First I will need to create a new ColumnDataSource.  Then I can use the function from above the create the plot.  Finally I will create the dropdowns and add them to the plot.* "
   ]
  },
  {
   "cell_type": "code",
   "execution_count": null,
   "metadata": {},
   "outputs": [],
   "source": [
    "# I will follow a very similar method as before but I will provide more columns to the ColumnDataSource\n",
    "usedf = df.loc[ (pd.notnull(df['pl_bmasse'])) & (pd.notnull(df['pl_rade'])) & \n",
    "                (pd.notnull(df['pl_orbeccen'])) & (pd.notnull(df['pl_orbper'])) &\n",
    "                (pd.notnull(df['st_teff'])) & (pd.notnull(df['sy_vmag']))].reset_index()\n",
    "source = ColumnDataSource(data=dict(x=usedf['pl_bmasse'], y=usedf['pl_rade'], \n",
    "                                    mass=usedf['pl_bmasse'],\n",
    "                                    rad=usedf['pl_rade'],\n",
    "                                    ecc=usedf['pl_orbeccen'],\n",
    "                                    per=usedf['pl_orbper'],\n",
    "                                    teff=usedf['st_teff'],\n",
    "                                    vmag=usedf['sy_vmag']))\n",
    "\n",
    "# use the function from above the create the plot\n",
    "f = createPlot(source)\n",
    "\n",
    "#create a dict to hold all the keys and labels that I will want to use\n",
    "labels = dict(mass=\"mass [Earth masses]\",\n",
    "              rad=\"radius [Earth radii]\",\n",
    "              ecc=\"eccentricity\",\n",
    "              per=\"orbital period [days]\",\n",
    "              teff=\"star Teff [K]\",\n",
    "              vmag=\"star V [mag]\")\n",
    "    \n",
    "# Again, I will wrap this in a function\n",
    "def createDropdowns(source, f, labels):\n",
    "    # define widgets to change the x and y values to plot\n",
    "    \n",
    "    # I will create a few arrays here\n",
    "    # \"options\" will be drawn from labels and will contain the text that I want to show up in the dropdowns\n",
    "    # \"keys\" will be drawn from labels and will contain the actual key values that I defined in the source dict\n",
    "    # \"bounds\" will contain axis limits for each key, note that since I'm using log scaling, I need to make these >0\n",
    "    # (in principle this could be done as a single dict, but having the lists makes the javascript side easier)\n",
    "    options = list(labels.values())\n",
    "    keys = list(labels.keys())\n",
    "    bounds = [];\n",
    "    for k in labels:\n",
    "        bounds.append([max(0.5*min(source.data[k]), 0.0001), max(2*max(source.data[k]), 0.0001)])\n",
    "    xSelect = Select(title=\"x axis\", value=options[0], options=options)\n",
    "    ySelect = Select(title=\"y axis\", value=options[1], options=options)\n",
    "\n",
    "    # Javascript callback\n",
    "    # I'm going to create a single callback to handle both axes\n",
    "    callback = CustomJS(args=dict(source=source, keys=keys, options=options, bounds = bounds,\n",
    "                                 axes={\"x\":f.xaxis[0], \"y\":f.yaxis[0]}, \n",
    "                                 ranges={\"x\":f.x_range, \"y\":f.y_range} ), \n",
    "                        code=\"\"\"\n",
    "        //get the value from the dropdown \n",
    "        //Note: \"this\" is like Python's \"self\"; here it will containt the select element.\n",
    "        var val = this.value;\n",
    "\n",
    "        //now find the index within the options array so that I can find the correct key to use\n",
    "        var index = options.indexOf(val);\n",
    "        var key = keys[index];\n",
    "\n",
    "        //check with axis this is\n",
    "        var ax = \"x\";\n",
    "        if (this.title == \"y axis\") ax = \"y\";\n",
    "        console.log(this.title, ax)\n",
    "\n",
    "        //change the data is being plotted\n",
    "        source.data[ax] = source.data[key];\n",
    "        source.change.emit();\n",
    "\n",
    "        //change the axis label\n",
    "        axes[ax].axis_label = val;\n",
    "\n",
    "        //change the bounds\n",
    "        ranges[ax].start = bounds[index][0];\n",
    "        ranges[ax].end = bounds[index][1];\n",
    "\n",
    "    \"\"\")\n",
    "    xSelect.js_on_change(\"value\", callback)\n",
    "    ySelect.js_on_change(\"value\", callback)\n",
    "    \n",
    "    return xSelect, ySelect\n",
    "   \n",
    "xSelect, ySelect = createDropdowns(source, f, labels)\n",
    "\n",
    "layout = row(\n",
    "    f,\n",
    "    column(xSelect,ySelect)\n",
    ")\n",
    "\n",
    "# show the plot\n",
    "show(layout)\n"
   ]
  },
  {
   "cell_type": "markdown",
   "metadata": {},
   "source": [
    "## 2.2 Add the table back in\n",
    "\n",
    "*I can use most of the code from above, but I will increase the columns in the table.*"
   ]
  },
  {
   "cell_type": "code",
   "execution_count": null,
   "metadata": {},
   "outputs": [],
   "source": [
    "# use the function from above the create the plot\n",
    "source = ColumnDataSource(data=dict(x=usedf['pl_bmasse'], y=usedf['pl_rade'], \n",
    "                                    mass=usedf['pl_bmasse'],\n",
    "                                    rad=usedf['pl_rade'],\n",
    "                                    ecc=usedf['pl_orbeccen'],\n",
    "                                    per=usedf['pl_orbper'],\n",
    "                                    teff=usedf['st_teff'],\n",
    "                                    vmag=usedf['sy_vmag']))\n",
    "\n",
    "f = createPlot(source)\n",
    "\n",
    "t = createTable(source, labels, w=800)\n",
    "\n",
    "xSelect, ySelect = createDropdowns(source, f, labels)\n",
    "\n",
    "attachSelectionHandlerJS(source)\n",
    "\n",
    "layout = column(\n",
    "    row(column(xSelect,ySelect), f,),\n",
    "    row(t)\n",
    ")\n",
    "\n",
    "# show the plot\n",
    "show(layout)"
   ]
  },
  {
   "cell_type": "code",
   "execution_count": null,
   "metadata": {},
   "outputs": [],
   "source": [
    "# test that we have access to the selected points\n",
    "usedf.iloc[list(indices)]#['pl_orbeccen']"
   ]
  },
  {
   "cell_type": "code",
   "execution_count": null,
   "metadata": {},
   "outputs": [],
   "source": []
  }
 ],
 "metadata": {
  "kernelspec": {
   "display_name": "Python 3",
   "language": "python",
   "name": "python3"
  },
  "language_info": {
   "codemirror_mode": {
    "name": "ipython",
    "version": 3
   },
   "file_extension": ".py",
   "mimetype": "text/x-python",
   "name": "python",
   "nbconvert_exporter": "python",
   "pygments_lexer": "ipython3",
   "version": "3.8.8"
  }
 },
 "nbformat": 4,
 "nbformat_minor": 2
}
