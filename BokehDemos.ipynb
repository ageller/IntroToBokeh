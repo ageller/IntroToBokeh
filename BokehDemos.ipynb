{
  "nbformat": 4,
  "nbformat_minor": 0,
  "metadata": {
    "colab": {
      "name": "BokehDemos.ipynb",
      "provenance": []
    },
    "kernelspec": {
      "name": "python3",
      "display_name": "Python 3"
    },
    "language_info": {
      "name": "python"
    }
  },
  "cells": [
    {
      "cell_type": "markdown",
      "metadata": {
        "id": "vFEyuqoE-WhB"
      },
      "source": [
        "# Bokeh Demos\n",
        "\n",
        "*The \"User Guide\" linked on this page is a very good resource :* https://bokeh.pydata.org/en/latest/"
      ]
    },
    {
      "cell_type": "markdown",
      "metadata": {
        "id": "-tk0OnoBLLSO"
      },
      "source": [
        "# Part 1\n",
        "\n",
        "*This first example is copied directly from the quickstart page on the users guide, for linked brushing*\n"
      ]
    },
    {
      "cell_type": "code",
      "metadata": {
        "id": "njWLaLAh-UYM"
      },
      "source": [
        "import numpy as np\n",
        "from bokeh.plotting import *\n",
        "from bokeh.models import ColumnDataSource\n",
        "\n",
        "#output the plots to this notebook\n",
        "output_notebook()\n",
        "\n",
        "# If you download this file as a .ipynb file and run locally,\n",
        "#    you can uncomment this line below to save the file as a stand alone html file.\n",
        "# output_file(\"linked_brushing.html\", title='Bokeh demo 1')"
      ],
      "execution_count": null,
      "outputs": []
    },
    {
      "cell_type": "markdown",
      "metadata": {
        "id": "40l-te4RAID9"
      },
      "source": [
        "## 1.1. Prepare some data."
      ]
    },
    {
      "cell_type": "code",
      "metadata": {
        "id": "vkxulhyP-b-5"
      },
      "source": [
        "N = 300\n",
        "x = np.linspace(0, 4*np.pi, N)\n",
        "y0 = np.sin(x)\n",
        "y1 = np.cos(x)"
      ],
      "execution_count": null,
      "outputs": []
    },
    {
      "cell_type": "markdown",
      "metadata": {
        "id": "F-4H9jHyARk2"
      },
      "source": [
        "## 1.2. Define the \"ColumnDataSource\" and the plots.\n",
        "\n",
        "*A ColumnDataSource will hold a python dictionary (or a panda dataframe) containing your data and can be accessed by Bokeh.*"
      ]
    },
    {
      "cell_type": "code",
      "metadata": {
        "id": "80lMcXMz-fBn"
      },
      "source": [
        "# create a column data source for the plots to share\n",
        "source = ColumnDataSource(data=dict(x=x, y0=y0, y1=y1))\n",
        "\n",
        "# define the tools you want to use\n",
        "TOOLS = \"pan,wheel_zoom,box_zoom,reset,save,box_select,lasso_select\"\n",
        "\n",
        "# create a new plot and add a renderer\n",
        "left = figure(tools=TOOLS, width=350, height=350, title=None)\n",
        "left.line('x', 'y0', source=source, color='red', line_width=2, line_alpha=0.4)\n",
        "left.circle('x', 'y0', source=source, color='red')\n",
        "left.xaxis.axis_label = 'x'\n",
        "left.yaxis.axis_label = 'sin(x)'\n",
        "\n",
        "# create another new plot and add a renderer\n",
        "right = figure(tools=TOOLS, width=350, height=350, title=None)\n",
        "right.line('x', 'y1', source=source, color='blue', line_width=2, line_alpha=0.4)\n",
        "right.circle('x', 'y1', source=source, color='blue')\n",
        "right.xaxis.axis_label = 'x'\n",
        "right.yaxis.axis_label = 'cos(x)'\n",
        "\n",
        "plots = [left, right]"
      ],
      "execution_count": null,
      "outputs": []
    },
    {
      "cell_type": "markdown",
      "metadata": {
        "id": "t1PiT33LAYGg"
      },
      "source": [
        "## 1.3. Define the layout and show the plot."
      ]
    },
    {
      "cell_type": "code",
      "metadata": {
        "id": "myqUob5B-hTN"
      },
      "source": [
        "# put the subplots in a gridplot\n",
        "p = gridplot([plots])\n",
        "\n",
        "# show the results\n",
        "show(p)\n",
        "\n"
      ],
      "execution_count": null,
      "outputs": []
    },
    {
      "cell_type": "markdown",
      "metadata": {
        "id": "71k-yZfRLYyy"
      },
      "source": [
        "# Part 2\n",
        "\n",
        "*Create a version with widgets, adapted from here :*\n",
        "\n",
        "http://bokeh.pydata.org/en/latest/docs/gallery/slider.html"
      ]
    },
    {
      "cell_type": "code",
      "metadata": {
        "id": "CNmeDJLYLdFa"
      },
      "source": [
        "import numpy as np\n",
        "from bokeh.plotting import *\n",
        "from bokeh.layouts import row, column\n",
        "from bokeh.models import ColumnDataSource, CustomJS, Slider\n",
        "\n",
        "#output the plots to this notebook\n",
        "output_notebook()\n",
        "\n",
        "# If you download this file as a .ipynb file and run locally using the Javascript callback,\n",
        "#    you can uncomment this line below to save the plot as a stand alone html file that you could use in your website.\n",
        "# output_file(\"linked_brushing_slider.html\", title='Bokeh demo 2')"
      ],
      "execution_count": null,
      "outputs": []
    },
    {
      "cell_type": "markdown",
      "metadata": {
        "id": "o2gRgalnLfGC"
      },
      "source": [
        "## 2.1. Prepare some data."
      ]
    },
    {
      "cell_type": "code",
      "metadata": {
        "id": "YQcs5OiULhGm"
      },
      "source": [
        "N = 300\n",
        "x = np.linspace(0, 4*np.pi, N)\n",
        "y0 = np.sin(x)\n",
        "y1 = np.cos(x)"
      ],
      "execution_count": null,
      "outputs": []
    },
    {
      "cell_type": "markdown",
      "metadata": {
        "id": "nnWL31TzLjxN"
      },
      "source": [
        "## 2.2 Define the \"ColumnDataSource\" and the plots."
      ]
    },
    {
      "cell_type": "code",
      "metadata": {
        "id": "jpjQoy-gLokB"
      },
      "source": [
        "# create a column data source for the plots to share\n",
        "source = ColumnDataSource(data=dict(x=x, y0=y0, y1=y1))\n",
        "\n",
        "TOOLS = \"pan,wheel_zoom,box_zoom,reset,save,box_select,lasso_select\"\n",
        "\n",
        "# create a new plot and add a renderer\n",
        "left = figure(tools=TOOLS, width=350, height=350, title=None)\n",
        "left.line('x', 'y0', source=source, color='red', line_width=2, line_alpha=0.4)\n",
        "left.circle('x', 'y0', source=source, color='red')\n",
        "left.xaxis.axis_label = 'x'\n",
        "left.yaxis.axis_label = 'sin(x)'\n",
        "\n",
        "# create another new plot and add a renderer\n",
        "right = figure(tools=TOOLS, width=350, height=350, title=None)\n",
        "right.line('x', 'y1', source=source, color='blue', line_width=2, line_alpha=0.4)\n",
        "right.circle('x', 'y1', source=source, color='blue')\n",
        "right.xaxis.axis_label = 'x'\n",
        "right.yaxis.axis_label = 'cos(x)'\n",
        "\n",
        "plots = [left, right]"
      ],
      "execution_count": null,
      "outputs": []
    },
    {
      "cell_type": "markdown",
      "metadata": {
        "id": "FuQLfB9JLsQF"
      },
      "source": [
        "## 2.3. Define the layout.\n",
        "\n",
        "*I will write this as a function so that we can it reuse it.  (See below.)*"
      ]
    },
    {
      "cell_type": "code",
      "metadata": {
        "id": "mO7JXOPSLuYq"
      },
      "source": [
        "def defineLayout(plots, sliders):\n",
        "    # put the subplots in a gridplot\n",
        "    p = gridplot([plots])\n",
        "\n",
        "    #now add the sliders\n",
        "    layout = row(\n",
        "        p,\n",
        "        column(*sliders), #the asterisk unpacks the list of sliders into individual values\n",
        "    )\n",
        "    \n",
        "    return layout"
      ],
      "execution_count": null,
      "outputs": []
    },
    {
      "cell_type": "markdown",
      "metadata": {
        "id": "ssjEZcQqLwhi"
      },
      "source": [
        "## 2.4. Define some sliders that will control the data that is plotted.\n",
        "\n",
        "*This bit below will simply define the sliders that we want to use.  Further down I will connect a (\"callback\") function that manipulates the data when a slider changes.*\n",
        "\n",
        "*There are many different kinds of widgets that can be used in Bokeh.  [Examples can be found here.](https://docs.bokeh.org/en/latest/docs/user_guide/interaction/widgets.html)*"
      ]
    },
    {
      "cell_type": "code",
      "metadata": {
        "id": "4BuF0WBHL0oB"
      },
      "source": [
        "# define the sliders\n",
        "amp_slider = Slider(start=0.1, end=10, value=1, step=.1, title=\"Amplitude\")\n",
        "freq_slider = Slider(start=0.1, end=10, value=1, step=.1, title=\"Frequency\")\n",
        "phase_slider = Slider(start=0, end=6.4, value=0, step=.1,title=\"Phase\")\n",
        "offset_slider = Slider(start=-5, end=5, value=0, step=.1,title=\"Offset\")\n",
        "\n",
        "sliders_base = [amp_slider, freq_slider, phase_slider, offset_slider]"
      ],
      "execution_count": null,
      "outputs": []
    },
    {
      "cell_type": "markdown",
      "metadata": {
        "id": "Tws7wWDXL3le"
      },
      "source": [
        "## 2.5. Define a \"callback\" to control the sliders and link it in.\n",
        "\n",
        "*A callback is a generic term for a function that is called after some event happens.  Here the function will be called after a slider's value is changed.*\n",
        "\n",
        "*I will create two different versions, one in Python and one in Javascript.  Only one should be used at a time.  (You may have to restart the notebook kernel in order to switch the callback method.)  I will wrap each of these in separate functions so that it's easier to swap one in for the other.*\n"
      ]
    },
    {
      "cell_type": "code",
      "metadata": {
        "id": "ht_QqhASL6gN"
      },
      "source": [
        ""
      ],
      "execution_count": null,
      "outputs": []
    },
    {
      "cell_type": "markdown",
      "metadata": {
        "id": "jecU55uKL7LX"
      },
      "source": [
        "### 2.5a. The Javascript approach:\n",
        "\n",
        "*In this example below, I am writing the callback function in Javascript.  This will allow us to show the result within a jupyter (and colab) notebook and also to save the resulting plot as a standalone .html file that could be used on your website.  (But, you need to learn a little Javascript.)*"
      ]
    },
    {
      "cell_type": "code",
      "metadata": {
        "id": "sbz21WTUMAcl"
      },
      "source": [
        "def defineJSSliders(source, sliders_base):\n",
        "\n",
        "    amp_slider, freq_slider, phase_slider, offset_slider = sliders_base\n",
        "    \n",
        "    # write the javascript slider callback\n",
        "    sliderCallback = CustomJS(args=dict(source=source, amp=amp_slider, freq=freq_slider, phase=phase_slider, \n",
        "                                   offset=offset_slider), code=\"\"\"\n",
        "        // Get the current slider values\n",
        "        var A = amp.value;\n",
        "        var k = freq.value;\n",
        "        var phi = phase.value;\n",
        "        var B = offset.value;\n",
        "\n",
        "        // Generate the new data\n",
        "        var x = source.data['x'];\n",
        "        var y0 = source.data['y0'];\n",
        "        var y1 = source.data['y1'];\n",
        "        for (var i = 0; i < x.length; i++) {\n",
        "            y0[i] = B + A*Math.sin(k*x[i]+phi);\n",
        "            y1[i] = B + A*Math.cos(k*x[i]+phi);\n",
        "        }\n",
        "\n",
        "        // Redefine the data in the ColumnDataSource\n",
        "        source.change.emit();\n",
        "    \"\"\")\n",
        "\n",
        "    # connect the callback to the sliders\n",
        "    amp_slider.js_on_change('value', sliderCallback)\n",
        "    freq_slider.js_on_change('value', sliderCallback)\n",
        "    phase_slider.js_on_change('value', sliderCallback)\n",
        "    offset_slider.js_on_change('value', sliderCallback)\n",
        "    \n",
        "    return amp_slider, freq_slider, phase_slider, offset_slider"
      ],
      "execution_count": null,
      "outputs": []
    },
    {
      "cell_type": "markdown",
      "metadata": {
        "id": "NYi7-PmUMD_V"
      },
      "source": [
        "*Connect the sliders, define the layout and show the plots.*\n"
      ]
    },
    {
      "cell_type": "code",
      "metadata": {
        "id": "6GXcS8vHMGjg"
      },
      "source": [
        "sliders = defineJSSliders(source, sliders_base)\n",
        "layout = defineLayout(plots, sliders)\n",
        "show(layout)"
      ],
      "execution_count": null,
      "outputs": []
    },
    {
      "cell_type": "markdown",
      "metadata": {
        "id": "KfZst83KMIUt"
      },
      "source": [
        "### 2.5b. The Python approach:\n",
        "\n",
        "*In this example below, I am writing the callback function in Python.  This approach has the benefit of already being in a language you know (Python), but you cannot use Python callbacks to create an .html file.  Only Javascript callbacks can be used to create an interactive plot for your website.  (Also Python callbacks will not work in colab.)*  "
      ]
    },
    {
      "cell_type": "code",
      "metadata": {
        "id": "CnAy1bPOMKGo"
      },
      "source": [
        "def definePySliders(source, sliders_base):\n",
        "    \n",
        "    amp_slider, freq_slider, phase_slider, offset_slider = sliders_base\n",
        "\n",
        "    #write the python slider callback\n",
        "    def sliderCallback(attrname, old, new):\n",
        "\n",
        "        # Get the current slider values\n",
        "        A = amp_slider.value\n",
        "        k = freq_slider.value\n",
        "        phi = phase_slider.value\n",
        "        B = offset_slider.value\n",
        "\n",
        "        # Generate the new data\n",
        "        x = source.data['x']\n",
        "        y0 = A*np.sin(k*x + phi) + B\n",
        "        y1 = A*np.cos(k*x + phi) + B\n",
        "\n",
        "        # Redefine the data in the ColumnDataSource\n",
        "        source.data = dict(x=x, y0=y0, y1=y1)\n",
        "        \n",
        "    # connect the callback to the sliders\n",
        "    amp_slider.on_change('value', sliderCallback)\n",
        "    freq_slider.on_change('value', sliderCallback)\n",
        "    phase_slider.on_change('value', sliderCallback)\n",
        "    offset_slider.on_change('value', sliderCallback)\n",
        "    \n",
        "    return amp_slider, freq_slider, phase_slider, offset_slider\n"
      ],
      "execution_count": null,
      "outputs": []
    },
    {
      "cell_type": "markdown",
      "metadata": {
        "id": "w6aEqso9MMIT"
      },
      "source": [
        "*Connect the sliders, define the layout and show the plots.*"
      ]
    },
    {
      "cell_type": "code",
      "metadata": {
        "id": "tFVDs6weMO1q"
      },
      "source": [
        "# This function here enables you to run a bokeh script with a python callback in the notebook. \n",
        "# (Otherwise you could write the code as a .py file and run it through a bokeh server.)\n",
        "def bkapp(doc):\n",
        "    doc.add_root(layout)\n",
        "\n",
        "sliders = defineJSSliders(source, sliders_base)\n",
        "layout = defineLayout(plots, sliders)\n",
        "show(bkapp)"
      ],
      "execution_count": null,
      "outputs": []
    },
    {
      "cell_type": "markdown",
      "metadata": {
        "id": "9yBNG1YUMVEp"
      },
      "source": [
        "# Part 3\n",
        "\n",
        "*Your turn!*"
      ]
    },
    {
      "cell_type": "markdown",
      "metadata": {
        "id": "wugicWgEMlgK"
      },
      "source": [
        "## 3.1. Create a single Bokeh plot of some data. \n",
        "\n",
        "*Include the standard pan, wheel_zoom, box_zoom, reset, save, box_select, and lasso_select tools, but no other special widgets.*"
      ]
    },
    {
      "cell_type": "code",
      "metadata": {
        "id": "sTiuWmJWMijD"
      },
      "source": [
        "# Import needed libraries."
      ],
      "execution_count": null,
      "outputs": []
    },
    {
      "cell_type": "code",
      "metadata": {
        "id": "GGKxB_IRMoq2"
      },
      "source": [
        "# Read in (or create) data."
      ],
      "execution_count": null,
      "outputs": []
    },
    {
      "cell_type": "code",
      "metadata": {
        "id": "mjsSo5mYMqCn"
      },
      "source": [
        "# Create a Bokeh plot."
      ],
      "execution_count": null,
      "outputs": []
    },
    {
      "cell_type": "markdown",
      "metadata": {
        "id": "Sc7rN-l0Mr3S"
      },
      "source": [
        "## 3.2. Create a single Bokeh plot of some data with some widget.\n",
        "\n",
        "*Include the standard pan, wheel_zoom, box_zoom, reset, save, box_select, and lasso_select tools, and also [a widget](https://docs.bokeh.org/en/latest/docs/user_guide/interaction/widgets.html) (e.g., slider, button, etc.) that controls some aspect of the plot.*"
      ]
    },
    {
      "cell_type": "code",
      "metadata": {
        "id": "m7u8-akyMuEo"
      },
      "source": [
        "# Create a Bokeh plot with a widget."
      ],
      "execution_count": null,
      "outputs": []
    }
  ]
}